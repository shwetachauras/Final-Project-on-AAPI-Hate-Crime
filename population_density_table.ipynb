{
  "nbformat": 4,
  "nbformat_minor": 0,
  "metadata": {
    "colab": {
      "name": "15-688 population density table.ipynb",
      "provenance": [],
      "machine_shape": "hm"
    },
    "kernelspec": {
      "name": "python3",
      "display_name": "Python 3"
    },
    "language_info": {
      "name": "python"
    }
  },
  "cells": [
    {
      "cell_type": "code",
      "metadata": {
        "id": "_k0oIjT_Wdez"
      },
      "source": [
        "import pandas as pd\n",
        "import numpy as np\n",
        "import matplotlib.pyplot as plt\n",
        "import math"
      ],
      "execution_count": null,
      "outputs": []
    },
    {
      "cell_type": "code",
      "metadata": {
        "colab": {
          "base_uri": "https://localhost:8080/",
          "height": 235
        },
        "id": "gu2WIzk1agBI",
        "outputId": "bb4925d4-7359-4e37-c8e4-aea737c52847"
      },
      "source": [
        "pop_dens_df = pd.read_csv('pop_density.csv', encoding='latin-1')\n",
        "pop_dens_df.drop('Unnamed: 2', axis=1, inplace=True)\n",
        "pop_dens_df['States'] = pop_dens_df['States'].apply(lambda x: x[1:])\n",
        "pop_dens_df.set_index('States', inplace=True)\n",
        "pop_dens_df.head()"
      ],
      "execution_count": null,
      "outputs": [
        {
          "output_type": "execute_result",
          "data": {
            "text/html": [
              "<div>\n",
              "<style scoped>\n",
              "    .dataframe tbody tr th:only-of-type {\n",
              "        vertical-align: middle;\n",
              "    }\n",
              "\n",
              "    .dataframe tbody tr th {\n",
              "        vertical-align: top;\n",
              "    }\n",
              "\n",
              "    .dataframe thead th {\n",
              "        text-align: right;\n",
              "    }\n",
              "</style>\n",
              "<table border=\"1\" class=\"dataframe\">\n",
              "  <thead>\n",
              "    <tr style=\"text-align: right;\">\n",
              "      <th></th>\n",
              "      <th>Pop_per_km2</th>\n",
              "    </tr>\n",
              "    <tr>\n",
              "      <th>States</th>\n",
              "      <th></th>\n",
              "    </tr>\n",
              "  </thead>\n",
              "  <tbody>\n",
              "    <tr>\n",
              "      <th>District of Columbia</th>\n",
              "      <td>4251</td>\n",
              "    </tr>\n",
              "    <tr>\n",
              "      <th>New Jersey</th>\n",
              "      <td>470</td>\n",
              "    </tr>\n",
              "    <tr>\n",
              "      <th>Puerto Rico</th>\n",
              "      <td>404</td>\n",
              "    </tr>\n",
              "    <tr>\n",
              "      <th>Rhode Island</th>\n",
              "      <td>394</td>\n",
              "    </tr>\n",
              "    <tr>\n",
              "      <th>Massachusetts</th>\n",
              "      <td>336</td>\n",
              "    </tr>\n",
              "  </tbody>\n",
              "</table>\n",
              "</div>"
            ],
            "text/plain": [
              "                      Pop_per_km2\n",
              "States                           \n",
              "District of Columbia         4251\n",
              "New Jersey                    470\n",
              "Puerto Rico                   404\n",
              "Rhode Island                  394\n",
              "Massachusetts                 336"
            ]
          },
          "metadata": {
            "tags": []
          },
          "execution_count": 25
        }
      ]
    },
    {
      "cell_type": "code",
      "metadata": {
        "colab": {
          "base_uri": "https://localhost:8080/"
        },
        "id": "AUSizWDzb1ht",
        "outputId": "84f3357c-85b8-40f3-edeb-1b19213fc22a"
      },
      "source": [
        "print(len(pop_dens_df.index))\n",
        "pop_dens_df.index"
      ],
      "execution_count": null,
      "outputs": [
        {
          "output_type": "stream",
          "text": [
            "56\n"
          ],
          "name": "stdout"
        },
        {
          "output_type": "execute_result",
          "data": {
            "text/plain": [
              "Index(['District of Columbia', 'New Jersey', 'Puerto Rico', 'Rhode Island',\n",
              "       'Massachusetts', 'Guam', 'US Virgin Islands', 'Connecticut',\n",
              "       'American Samoa', 'Maryland', 'Delaware', 'New York', 'Florida',\n",
              "       'Northern Mariana Islands', 'Pennsylvania', 'Ohio', 'California',\n",
              "       'Illinois', 'Hawaii', 'Virginia', 'North Carolina', 'Indiana',\n",
              "       'Georgia', 'Michigan', 'South Carolina', 'Tennessee', 'New Hampshire',\n",
              "       'Kentucky', 'Louisiana', 'Washington', 'Wisconsin', 'Texas', 'Alabama',\n",
              "       'Missouri', 'West Virginia', 'Minnesota', 'Vermont', 'Mississippi',\n",
              "       'Arizona', 'Arkansas', 'Oklahoma', 'Iowa', 'Colorado', 'Maine',\n",
              "       'Oregon', 'Utah', 'Kansas', 'Nevada', 'Nebraska', 'Idaho', 'New Mexico',\n",
              "       'South Dakota', 'North Dakota', 'Montana', 'Wyoming', 'Alaska'],\n",
              "      dtype='object', name='States')"
            ]
          },
          "metadata": {
            "tags": []
          },
          "execution_count": 26
        }
      ]
    },
    {
      "cell_type": "code",
      "metadata": {
        "colab": {
          "base_uri": "https://localhost:8080/",
          "height": 235
        },
        "id": "nHFk5cuAdqv3",
        "outputId": "05dd52b2-9f83-4958-dd56-4e345276dc5c"
      },
      "source": [
        "asian_df = pd.read_csv('asian_density.csv', encoding='latin-1')\n",
        "asian_df.rename(columns={'State':'States'}, inplace=True)\n",
        "asian_df['States'] = asian_df['States'].apply(lambda x: x[1:])\n",
        "asian_df['States'] = asian_df['States'].apply(lambda x: 'US Virgin Islands' if 'Virgin Islands' in x else x)\n",
        "asian_df.set_index('States', inplace=True)\n",
        "asian_df.head()"
      ],
      "execution_count": null,
      "outputs": [
        {
          "output_type": "execute_result",
          "data": {
            "text/html": [
              "<div>\n",
              "<style scoped>\n",
              "    .dataframe tbody tr th:only-of-type {\n",
              "        vertical-align: middle;\n",
              "    }\n",
              "\n",
              "    .dataframe tbody tr th {\n",
              "        vertical-align: top;\n",
              "    }\n",
              "\n",
              "    .dataframe thead th {\n",
              "        text-align: right;\n",
              "    }\n",
              "</style>\n",
              "<table border=\"1\" class=\"dataframe\">\n",
              "  <thead>\n",
              "    <tr style=\"text-align: right;\">\n",
              "      <th></th>\n",
              "      <th>Perc_asian</th>\n",
              "    </tr>\n",
              "    <tr>\n",
              "      <th>States</th>\n",
              "      <th></th>\n",
              "    </tr>\n",
              "  </thead>\n",
              "  <tbody>\n",
              "    <tr>\n",
              "      <th>Alabama</th>\n",
              "      <td>1.4</td>\n",
              "    </tr>\n",
              "    <tr>\n",
              "      <th>Alaska</th>\n",
              "      <td>7.1</td>\n",
              "    </tr>\n",
              "    <tr>\n",
              "      <th>American Samoa</th>\n",
              "      <td>3.6</td>\n",
              "    </tr>\n",
              "    <tr>\n",
              "      <th>Arizona</th>\n",
              "      <td>3.6</td>\n",
              "    </tr>\n",
              "    <tr>\n",
              "      <th>Arkansas</th>\n",
              "      <td>1.5</td>\n",
              "    </tr>\n",
              "  </tbody>\n",
              "</table>\n",
              "</div>"
            ],
            "text/plain": [
              "                Perc_asian\n",
              "States                    \n",
              "Alabama                1.4\n",
              "Alaska                 7.1\n",
              "American Samoa         3.6\n",
              "Arizona                3.6\n",
              "Arkansas               1.5"
            ]
          },
          "metadata": {
            "tags": []
          },
          "execution_count": 31
        }
      ]
    },
    {
      "cell_type": "code",
      "metadata": {
        "colab": {
          "base_uri": "https://localhost:8080/"
        },
        "id": "ViQjScdbeK6m",
        "outputId": "44b7df76-efe9-4bf4-d65a-cf174b372cd4"
      },
      "source": [
        "print(len(asian_df.index))\n",
        "asian_df.index"
      ],
      "execution_count": null,
      "outputs": [
        {
          "output_type": "stream",
          "text": [
            "56\n"
          ],
          "name": "stdout"
        },
        {
          "output_type": "execute_result",
          "data": {
            "text/plain": [
              "Index(['Alabama', 'Alaska', 'American Samoa', 'Arizona', 'Arkansas',\n",
              "       'California', 'Colorado', 'Connecticut', 'Delaware',\n",
              "       'District of Columbia', 'Florida', 'Georgia', 'Guam', 'Hawaii', 'Idaho',\n",
              "       'Illinois', 'Indiana', 'Iowa', 'Kansas', 'Kentucky', 'Louisiana',\n",
              "       'Maine', 'Maryland', 'Massachusetts', 'Michigan', 'Minnesota',\n",
              "       'Mississippi', 'Missouri', 'Montana', 'Nebraska', 'Nevada',\n",
              "       'New Hampshire', 'New Jersey', 'New Mexico', 'New York',\n",
              "       'North Carolina', 'North Dakota', 'Northern Mariana Islands', 'Ohio',\n",
              "       'Oklahoma', 'Oregon', 'Pennsylvania', 'Puerto Rico', 'Rhode Island',\n",
              "       'South Carolina', 'South Dakota', 'Tennessee', 'Texas', 'Utah',\n",
              "       'Vermont', 'US Virgin Islands', 'Virginia', 'Washington',\n",
              "       'West Virginia', 'Wisconsin', 'Wyoming'],\n",
              "      dtype='object', name='States')"
            ]
          },
          "metadata": {
            "tags": []
          },
          "execution_count": 32
        }
      ]
    },
    {
      "cell_type": "code",
      "metadata": {
        "colab": {
          "base_uri": "https://localhost:8080/",
          "height": 235
        },
        "id": "PhOqDUNjej-R",
        "outputId": "3a601771-4803-4229-ede3-f1a321ffa3a2"
      },
      "source": [
        "demographic_df = pd.merge(pop_dens_df, asian_df, left_index=True, right_index=True)\n",
        "demographic_df.head()"
      ],
      "execution_count": null,
      "outputs": [
        {
          "output_type": "execute_result",
          "data": {
            "text/html": [
              "<div>\n",
              "<style scoped>\n",
              "    .dataframe tbody tr th:only-of-type {\n",
              "        vertical-align: middle;\n",
              "    }\n",
              "\n",
              "    .dataframe tbody tr th {\n",
              "        vertical-align: top;\n",
              "    }\n",
              "\n",
              "    .dataframe thead th {\n",
              "        text-align: right;\n",
              "    }\n",
              "</style>\n",
              "<table border=\"1\" class=\"dataframe\">\n",
              "  <thead>\n",
              "    <tr style=\"text-align: right;\">\n",
              "      <th></th>\n",
              "      <th>Pop_per_km2</th>\n",
              "      <th>Perc_asian</th>\n",
              "    </tr>\n",
              "    <tr>\n",
              "      <th>States</th>\n",
              "      <th></th>\n",
              "      <th></th>\n",
              "    </tr>\n",
              "  </thead>\n",
              "  <tbody>\n",
              "    <tr>\n",
              "      <th>District of Columbia</th>\n",
              "      <td>4251</td>\n",
              "      <td>4.5</td>\n",
              "    </tr>\n",
              "    <tr>\n",
              "      <th>New Jersey</th>\n",
              "      <td>470</td>\n",
              "      <td>9.0</td>\n",
              "    </tr>\n",
              "    <tr>\n",
              "      <th>Puerto Rico</th>\n",
              "      <td>404</td>\n",
              "      <td>0.3</td>\n",
              "    </tr>\n",
              "    <tr>\n",
              "      <th>Rhode Island</th>\n",
              "      <td>394</td>\n",
              "      <td>3.5</td>\n",
              "    </tr>\n",
              "    <tr>\n",
              "      <th>Massachusetts</th>\n",
              "      <td>336</td>\n",
              "      <td>6.0</td>\n",
              "    </tr>\n",
              "  </tbody>\n",
              "</table>\n",
              "</div>"
            ],
            "text/plain": [
              "                      Pop_per_km2  Perc_asian\n",
              "States                                       \n",
              "District of Columbia         4251         4.5\n",
              "New Jersey                    470         9.0\n",
              "Puerto Rico                   404         0.3\n",
              "Rhode Island                  394         3.5\n",
              "Massachusetts                 336         6.0"
            ]
          },
          "metadata": {
            "tags": []
          },
          "execution_count": 46
        }
      ]
    },
    {
      "cell_type": "code",
      "metadata": {
        "colab": {
          "base_uri": "https://localhost:8080/"
        },
        "id": "RniF8hzlfKpu",
        "outputId": "dc088e82-bdf9-47ae-9624-bba20c41f8fa"
      },
      "source": [
        "len(demographic_df)"
      ],
      "execution_count": null,
      "outputs": [
        {
          "output_type": "execute_result",
          "data": {
            "text/plain": [
              "56"
            ]
          },
          "metadata": {
            "tags": []
          },
          "execution_count": 34
        }
      ]
    },
    {
      "cell_type": "code",
      "metadata": {
        "colab": {
          "base_uri": "https://localhost:8080/",
          "height": 235
        },
        "id": "gDQEc_tvgqYP",
        "outputId": "1d167fd3-b7f2-401a-ef61-c76c7d7c2d2c"
      },
      "source": [
        "demographic_df.sort_values('Perc_asian', ascending=False, inplace=True)\n",
        "demographic_df.head()"
      ],
      "execution_count": null,
      "outputs": [
        {
          "output_type": "execute_result",
          "data": {
            "text/html": [
              "<div>\n",
              "<style scoped>\n",
              "    .dataframe tbody tr th:only-of-type {\n",
              "        vertical-align: middle;\n",
              "    }\n",
              "\n",
              "    .dataframe tbody tr th {\n",
              "        vertical-align: top;\n",
              "    }\n",
              "\n",
              "    .dataframe thead th {\n",
              "        text-align: right;\n",
              "    }\n",
              "</style>\n",
              "<table border=\"1\" class=\"dataframe\">\n",
              "  <thead>\n",
              "    <tr style=\"text-align: right;\">\n",
              "      <th></th>\n",
              "      <th>Pop_per_km2</th>\n",
              "      <th>Perc_asian</th>\n",
              "    </tr>\n",
              "    <tr>\n",
              "      <th>States</th>\n",
              "      <th></th>\n",
              "      <th></th>\n",
              "    </tr>\n",
              "  </thead>\n",
              "  <tbody>\n",
              "    <tr>\n",
              "      <th>Hawaii</th>\n",
              "      <td>86</td>\n",
              "      <td>57.4</td>\n",
              "    </tr>\n",
              "    <tr>\n",
              "      <th>Northern Mariana Islands</th>\n",
              "      <td>118</td>\n",
              "      <td>49.9</td>\n",
              "    </tr>\n",
              "    <tr>\n",
              "      <th>Guam</th>\n",
              "      <td>314</td>\n",
              "      <td>32.2</td>\n",
              "    </tr>\n",
              "    <tr>\n",
              "      <th>California</th>\n",
              "      <td>97</td>\n",
              "      <td>14.9</td>\n",
              "    </tr>\n",
              "    <tr>\n",
              "      <th>New Jersey</th>\n",
              "      <td>470</td>\n",
              "      <td>9.0</td>\n",
              "    </tr>\n",
              "  </tbody>\n",
              "</table>\n",
              "</div>"
            ],
            "text/plain": [
              "                          Pop_per_km2  Perc_asian\n",
              "States                                           \n",
              "Hawaii                             86        57.4\n",
              "Northern Mariana Islands          118        49.9\n",
              "Guam                              314        32.2\n",
              "California                         97        14.9\n",
              "New Jersey                        470         9.0"
            ]
          },
          "metadata": {
            "tags": []
          },
          "execution_count": 38
        }
      ]
    },
    {
      "cell_type": "code",
      "metadata": {
        "colab": {
          "base_uri": "https://localhost:8080/",
          "height": 235
        },
        "id": "7IEISKzGg1Rf",
        "outputId": "c3d689a3-843e-4617-e527-3850ccb41dfc"
      },
      "source": [
        "demographic_df['num_asians_per_km2'] = (\n",
        "    (demographic_df['Pop_per_km2']*demographic_df['Perc_asian']/100)\n",
        "    .apply(lambda x: math.ceil(x))\n",
        "                                )\n",
        "demographic_df.sort_values('num_asians_per_km2', ascending=False, inplace=True)\n",
        "demographic_df.head()"
      ],
      "execution_count": null,
      "outputs": [
        {
          "output_type": "execute_result",
          "data": {
            "text/html": [
              "<div>\n",
              "<style scoped>\n",
              "    .dataframe tbody tr th:only-of-type {\n",
              "        vertical-align: middle;\n",
              "    }\n",
              "\n",
              "    .dataframe tbody tr th {\n",
              "        vertical-align: top;\n",
              "    }\n",
              "\n",
              "    .dataframe thead th {\n",
              "        text-align: right;\n",
              "    }\n",
              "</style>\n",
              "<table border=\"1\" class=\"dataframe\">\n",
              "  <thead>\n",
              "    <tr style=\"text-align: right;\">\n",
              "      <th></th>\n",
              "      <th>Pop_per_km2</th>\n",
              "      <th>Perc_asian</th>\n",
              "      <th>num_asians_per_km2</th>\n",
              "    </tr>\n",
              "    <tr>\n",
              "      <th>States</th>\n",
              "      <th></th>\n",
              "      <th></th>\n",
              "      <th></th>\n",
              "    </tr>\n",
              "  </thead>\n",
              "  <tbody>\n",
              "    <tr>\n",
              "      <th>District of Columbia</th>\n",
              "      <td>4251</td>\n",
              "      <td>4.5</td>\n",
              "      <td>192</td>\n",
              "    </tr>\n",
              "    <tr>\n",
              "      <th>Guam</th>\n",
              "      <td>314</td>\n",
              "      <td>32.2</td>\n",
              "      <td>102</td>\n",
              "    </tr>\n",
              "    <tr>\n",
              "      <th>Northern Mariana Islands</th>\n",
              "      <td>118</td>\n",
              "      <td>49.9</td>\n",
              "      <td>59</td>\n",
              "    </tr>\n",
              "    <tr>\n",
              "      <th>Hawaii</th>\n",
              "      <td>86</td>\n",
              "      <td>57.4</td>\n",
              "      <td>50</td>\n",
              "    </tr>\n",
              "    <tr>\n",
              "      <th>New Jersey</th>\n",
              "      <td>470</td>\n",
              "      <td>9.0</td>\n",
              "      <td>43</td>\n",
              "    </tr>\n",
              "  </tbody>\n",
              "</table>\n",
              "</div>"
            ],
            "text/plain": [
              "                          Pop_per_km2  Perc_asian  num_asians_per_km2\n",
              "States                                                               \n",
              "District of Columbia             4251         4.5                 192\n",
              "Guam                              314        32.2                 102\n",
              "Northern Mariana Islands          118        49.9                  59\n",
              "Hawaii                             86        57.4                  50\n",
              "New Jersey                        470         9.0                  43"
            ]
          },
          "metadata": {
            "tags": []
          },
          "execution_count": 49
        }
      ]
    },
    {
      "cell_type": "code",
      "metadata": {
        "id": "ELzQTMCch4LB"
      },
      "source": [
        "demographic_df.to_csv('/content/drive/MyDrive/Carnegie Mellon University/15-688 Practical Data Science/Cleaned tables/population_density.csv')"
      ],
      "execution_count": null,
      "outputs": []
    },
    {
      "cell_type": "code",
      "metadata": {
        "id": "xUgiZKUWivkN"
      },
      "source": [
        ""
      ],
      "execution_count": null,
      "outputs": []
    }
  ]
}