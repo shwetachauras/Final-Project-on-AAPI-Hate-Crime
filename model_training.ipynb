{
  "nbformat": 4,
  "nbformat_minor": 0,
  "metadata": {
    "colab": {
      "name": "15-699 model training.ipynb",
      "provenance": []
    },
    "kernelspec": {
      "name": "python3",
      "display_name": "Python 3"
    },
    "language_info": {
      "name": "python"
    },
    "widgets": {
      "application/vnd.jupyter.widget-state+json": {
        "778f68e3114b4edd9590c1a88e06f462": {
          "model_module": "@jupyter-widgets/controls",
          "model_name": "HBoxModel",
          "state": {
            "_view_name": "HBoxView",
            "_dom_classes": [],
            "_model_name": "HBoxModel",
            "_view_module": "@jupyter-widgets/controls",
            "_model_module_version": "1.5.0",
            "_view_count": null,
            "_view_module_version": "1.5.0",
            "box_style": "",
            "layout": "IPY_MODEL_6f639159612849f593fb7f5b59a35827",
            "_model_module": "@jupyter-widgets/controls",
            "children": [
              "IPY_MODEL_04c91df25b2b4065a1701b467f962ea9",
              "IPY_MODEL_72b0ac2bb40c43afb9b11c104314d4ca"
            ]
          }
        },
        "6f639159612849f593fb7f5b59a35827": {
          "model_module": "@jupyter-widgets/base",
          "model_name": "LayoutModel",
          "state": {
            "_view_name": "LayoutView",
            "grid_template_rows": null,
            "right": null,
            "justify_content": null,
            "_view_module": "@jupyter-widgets/base",
            "overflow": null,
            "_model_module_version": "1.2.0",
            "_view_count": null,
            "flex_flow": null,
            "width": null,
            "min_width": null,
            "border": null,
            "align_items": null,
            "bottom": null,
            "_model_module": "@jupyter-widgets/base",
            "top": null,
            "grid_column": null,
            "overflow_y": null,
            "overflow_x": null,
            "grid_auto_flow": null,
            "grid_area": null,
            "grid_template_columns": null,
            "flex": null,
            "_model_name": "LayoutModel",
            "justify_items": null,
            "grid_row": null,
            "max_height": null,
            "align_content": null,
            "visibility": null,
            "align_self": null,
            "height": null,
            "min_height": null,
            "padding": null,
            "grid_auto_rows": null,
            "grid_gap": null,
            "max_width": null,
            "order": null,
            "_view_module_version": "1.2.0",
            "grid_template_areas": null,
            "object_position": null,
            "object_fit": null,
            "grid_auto_columns": null,
            "margin": null,
            "display": null,
            "left": null
          }
        },
        "04c91df25b2b4065a1701b467f962ea9": {
          "model_module": "@jupyter-widgets/controls",
          "model_name": "FloatProgressModel",
          "state": {
            "_view_name": "ProgressView",
            "style": "IPY_MODEL_754cd8557d6f4036a37a38625cf8a9ec",
            "_dom_classes": [],
            "description": "",
            "_model_name": "FloatProgressModel",
            "bar_style": "success",
            "max": 1,
            "_view_module": "@jupyter-widgets/controls",
            "_model_module_version": "1.5.0",
            "value": 1,
            "_view_count": null,
            "_view_module_version": "1.5.0",
            "orientation": "horizontal",
            "min": 0,
            "description_tooltip": null,
            "_model_module": "@jupyter-widgets/controls",
            "layout": "IPY_MODEL_fd0e95caccae454c89ec49e55df21cd5"
          }
        },
        "72b0ac2bb40c43afb9b11c104314d4ca": {
          "model_module": "@jupyter-widgets/controls",
          "model_name": "HTMLModel",
          "state": {
            "_view_name": "HTMLView",
            "style": "IPY_MODEL_353166645746417f8c88b7ed714c185e",
            "_dom_classes": [],
            "description": "",
            "_model_name": "HTMLModel",
            "placeholder": "​",
            "_view_module": "@jupyter-widgets/controls",
            "_model_module_version": "1.5.0",
            "value": " 8/? [03:08&lt;00:00, 23.59s/it]",
            "_view_count": null,
            "_view_module_version": "1.5.0",
            "description_tooltip": null,
            "_model_module": "@jupyter-widgets/controls",
            "layout": "IPY_MODEL_e7d07e052e14403184b2b03273713139"
          }
        },
        "754cd8557d6f4036a37a38625cf8a9ec": {
          "model_module": "@jupyter-widgets/controls",
          "model_name": "ProgressStyleModel",
          "state": {
            "_view_name": "StyleView",
            "_model_name": "ProgressStyleModel",
            "description_width": "initial",
            "_view_module": "@jupyter-widgets/base",
            "_model_module_version": "1.5.0",
            "_view_count": null,
            "_view_module_version": "1.2.0",
            "bar_color": null,
            "_model_module": "@jupyter-widgets/controls"
          }
        },
        "fd0e95caccae454c89ec49e55df21cd5": {
          "model_module": "@jupyter-widgets/base",
          "model_name": "LayoutModel",
          "state": {
            "_view_name": "LayoutView",
            "grid_template_rows": null,
            "right": null,
            "justify_content": null,
            "_view_module": "@jupyter-widgets/base",
            "overflow": null,
            "_model_module_version": "1.2.0",
            "_view_count": null,
            "flex_flow": null,
            "width": null,
            "min_width": null,
            "border": null,
            "align_items": null,
            "bottom": null,
            "_model_module": "@jupyter-widgets/base",
            "top": null,
            "grid_column": null,
            "overflow_y": null,
            "overflow_x": null,
            "grid_auto_flow": null,
            "grid_area": null,
            "grid_template_columns": null,
            "flex": null,
            "_model_name": "LayoutModel",
            "justify_items": null,
            "grid_row": null,
            "max_height": null,
            "align_content": null,
            "visibility": null,
            "align_self": null,
            "height": null,
            "min_height": null,
            "padding": null,
            "grid_auto_rows": null,
            "grid_gap": null,
            "max_width": null,
            "order": null,
            "_view_module_version": "1.2.0",
            "grid_template_areas": null,
            "object_position": null,
            "object_fit": null,
            "grid_auto_columns": null,
            "margin": null,
            "display": null,
            "left": null
          }
        },
        "353166645746417f8c88b7ed714c185e": {
          "model_module": "@jupyter-widgets/controls",
          "model_name": "DescriptionStyleModel",
          "state": {
            "_view_name": "StyleView",
            "_model_name": "DescriptionStyleModel",
            "description_width": "",
            "_view_module": "@jupyter-widgets/base",
            "_model_module_version": "1.5.0",
            "_view_count": null,
            "_view_module_version": "1.2.0",
            "_model_module": "@jupyter-widgets/controls"
          }
        },
        "e7d07e052e14403184b2b03273713139": {
          "model_module": "@jupyter-widgets/base",
          "model_name": "LayoutModel",
          "state": {
            "_view_name": "LayoutView",
            "grid_template_rows": null,
            "right": null,
            "justify_content": null,
            "_view_module": "@jupyter-widgets/base",
            "overflow": null,
            "_model_module_version": "1.2.0",
            "_view_count": null,
            "flex_flow": null,
            "width": null,
            "min_width": null,
            "border": null,
            "align_items": null,
            "bottom": null,
            "_model_module": "@jupyter-widgets/base",
            "top": null,
            "grid_column": null,
            "overflow_y": null,
            "overflow_x": null,
            "grid_auto_flow": null,
            "grid_area": null,
            "grid_template_columns": null,
            "flex": null,
            "_model_name": "LayoutModel",
            "justify_items": null,
            "grid_row": null,
            "max_height": null,
            "align_content": null,
            "visibility": null,
            "align_self": null,
            "height": null,
            "min_height": null,
            "padding": null,
            "grid_auto_rows": null,
            "grid_gap": null,
            "max_width": null,
            "order": null,
            "_view_module_version": "1.2.0",
            "grid_template_areas": null,
            "object_position": null,
            "object_fit": null,
            "grid_auto_columns": null,
            "margin": null,
            "display": null,
            "left": null
          }
        },
        "399327019260437a84be8691812ca7cf": {
          "model_module": "@jupyter-widgets/controls",
          "model_name": "HBoxModel",
          "state": {
            "_view_name": "HBoxView",
            "_dom_classes": [],
            "_model_name": "HBoxModel",
            "_view_module": "@jupyter-widgets/controls",
            "_model_module_version": "1.5.0",
            "_view_count": null,
            "_view_module_version": "1.5.0",
            "box_style": "",
            "layout": "IPY_MODEL_079934adb84049cfa7cacf07157dd25f",
            "_model_module": "@jupyter-widgets/controls",
            "children": [
              "IPY_MODEL_8c81bab0b8a5422f881a9e2e2eec5db9",
              "IPY_MODEL_918a06dca94e4b8c907c313734c21042"
            ]
          }
        },
        "079934adb84049cfa7cacf07157dd25f": {
          "model_module": "@jupyter-widgets/base",
          "model_name": "LayoutModel",
          "state": {
            "_view_name": "LayoutView",
            "grid_template_rows": null,
            "right": null,
            "justify_content": null,
            "_view_module": "@jupyter-widgets/base",
            "overflow": null,
            "_model_module_version": "1.2.0",
            "_view_count": null,
            "flex_flow": null,
            "width": null,
            "min_width": null,
            "border": null,
            "align_items": null,
            "bottom": null,
            "_model_module": "@jupyter-widgets/base",
            "top": null,
            "grid_column": null,
            "overflow_y": null,
            "overflow_x": null,
            "grid_auto_flow": null,
            "grid_area": null,
            "grid_template_columns": null,
            "flex": null,
            "_model_name": "LayoutModel",
            "justify_items": null,
            "grid_row": null,
            "max_height": null,
            "align_content": null,
            "visibility": null,
            "align_self": null,
            "height": null,
            "min_height": null,
            "padding": null,
            "grid_auto_rows": null,
            "grid_gap": null,
            "max_width": null,
            "order": null,
            "_view_module_version": "1.2.0",
            "grid_template_areas": null,
            "object_position": null,
            "object_fit": null,
            "grid_auto_columns": null,
            "margin": null,
            "display": null,
            "left": null
          }
        },
        "8c81bab0b8a5422f881a9e2e2eec5db9": {
          "model_module": "@jupyter-widgets/controls",
          "model_name": "FloatProgressModel",
          "state": {
            "_view_name": "ProgressView",
            "style": "IPY_MODEL_c22219767baa445cbe1b5a69eaf677bd",
            "_dom_classes": [],
            "description": "100%",
            "_model_name": "FloatProgressModel",
            "bar_style": "success",
            "max": 36,
            "_view_module": "@jupyter-widgets/controls",
            "_model_module_version": "1.5.0",
            "value": 36,
            "_view_count": null,
            "_view_module_version": "1.5.0",
            "orientation": "horizontal",
            "min": 0,
            "description_tooltip": null,
            "_model_module": "@jupyter-widgets/controls",
            "layout": "IPY_MODEL_c13af387b26149caa308d9051b847c25"
          }
        },
        "918a06dca94e4b8c907c313734c21042": {
          "model_module": "@jupyter-widgets/controls",
          "model_name": "HTMLModel",
          "state": {
            "_view_name": "HTMLView",
            "style": "IPY_MODEL_2172e0d336174200a9e4aa57806ed355",
            "_dom_classes": [],
            "description": "",
            "_model_name": "HTMLModel",
            "placeholder": "​",
            "_view_module": "@jupyter-widgets/controls",
            "_model_module_version": "1.5.0",
            "value": " 36/36 [01:31&lt;00:00,  2.55s/it]",
            "_view_count": null,
            "_view_module_version": "1.5.0",
            "description_tooltip": null,
            "_model_module": "@jupyter-widgets/controls",
            "layout": "IPY_MODEL_aed144144c3b4b89b3b80fc745676b21"
          }
        },
        "c22219767baa445cbe1b5a69eaf677bd": {
          "model_module": "@jupyter-widgets/controls",
          "model_name": "ProgressStyleModel",
          "state": {
            "_view_name": "StyleView",
            "_model_name": "ProgressStyleModel",
            "description_width": "initial",
            "_view_module": "@jupyter-widgets/base",
            "_model_module_version": "1.5.0",
            "_view_count": null,
            "_view_module_version": "1.2.0",
            "bar_color": null,
            "_model_module": "@jupyter-widgets/controls"
          }
        },
        "c13af387b26149caa308d9051b847c25": {
          "model_module": "@jupyter-widgets/base",
          "model_name": "LayoutModel",
          "state": {
            "_view_name": "LayoutView",
            "grid_template_rows": null,
            "right": null,
            "justify_content": null,
            "_view_module": "@jupyter-widgets/base",
            "overflow": null,
            "_model_module_version": "1.2.0",
            "_view_count": null,
            "flex_flow": null,
            "width": null,
            "min_width": null,
            "border": null,
            "align_items": null,
            "bottom": null,
            "_model_module": "@jupyter-widgets/base",
            "top": null,
            "grid_column": null,
            "overflow_y": null,
            "overflow_x": null,
            "grid_auto_flow": null,
            "grid_area": null,
            "grid_template_columns": null,
            "flex": null,
            "_model_name": "LayoutModel",
            "justify_items": null,
            "grid_row": null,
            "max_height": null,
            "align_content": null,
            "visibility": null,
            "align_self": null,
            "height": null,
            "min_height": null,
            "padding": null,
            "grid_auto_rows": null,
            "grid_gap": null,
            "max_width": null,
            "order": null,
            "_view_module_version": "1.2.0",
            "grid_template_areas": null,
            "object_position": null,
            "object_fit": null,
            "grid_auto_columns": null,
            "margin": null,
            "display": null,
            "left": null
          }
        },
        "2172e0d336174200a9e4aa57806ed355": {
          "model_module": "@jupyter-widgets/controls",
          "model_name": "DescriptionStyleModel",
          "state": {
            "_view_name": "StyleView",
            "_model_name": "DescriptionStyleModel",
            "description_width": "",
            "_view_module": "@jupyter-widgets/base",
            "_model_module_version": "1.5.0",
            "_view_count": null,
            "_view_module_version": "1.2.0",
            "_model_module": "@jupyter-widgets/controls"
          }
        },
        "aed144144c3b4b89b3b80fc745676b21": {
          "model_module": "@jupyter-widgets/base",
          "model_name": "LayoutModel",
          "state": {
            "_view_name": "LayoutView",
            "grid_template_rows": null,
            "right": null,
            "justify_content": null,
            "_view_module": "@jupyter-widgets/base",
            "overflow": null,
            "_model_module_version": "1.2.0",
            "_view_count": null,
            "flex_flow": null,
            "width": null,
            "min_width": null,
            "border": null,
            "align_items": null,
            "bottom": null,
            "_model_module": "@jupyter-widgets/base",
            "top": null,
            "grid_column": null,
            "overflow_y": null,
            "overflow_x": null,
            "grid_auto_flow": null,
            "grid_area": null,
            "grid_template_columns": null,
            "flex": null,
            "_model_name": "LayoutModel",
            "justify_items": null,
            "grid_row": null,
            "max_height": null,
            "align_content": null,
            "visibility": null,
            "align_self": null,
            "height": null,
            "min_height": null,
            "padding": null,
            "grid_auto_rows": null,
            "grid_gap": null,
            "max_width": null,
            "order": null,
            "_view_module_version": "1.2.0",
            "grid_template_areas": null,
            "object_position": null,
            "object_fit": null,
            "grid_auto_columns": null,
            "margin": null,
            "display": null,
            "left": null
          }
        },
        "ac3fbb4e0dd54beb899ff60101dac16a": {
          "model_module": "@jupyter-widgets/controls",
          "model_name": "HBoxModel",
          "state": {
            "_view_name": "HBoxView",
            "_dom_classes": [],
            "_model_name": "HBoxModel",
            "_view_module": "@jupyter-widgets/controls",
            "_model_module_version": "1.5.0",
            "_view_count": null,
            "_view_module_version": "1.5.0",
            "box_style": "",
            "layout": "IPY_MODEL_b1aab63fff674f3080aa0e1151f078b6",
            "_model_module": "@jupyter-widgets/controls",
            "children": [
              "IPY_MODEL_60596d8adcfb4eaf8d9a73b67f0a8a7e",
              "IPY_MODEL_fe13d4e0b2624e91950fb074d91fbfd2"
            ]
          }
        },
        "b1aab63fff674f3080aa0e1151f078b6": {
          "model_module": "@jupyter-widgets/base",
          "model_name": "LayoutModel",
          "state": {
            "_view_name": "LayoutView",
            "grid_template_rows": null,
            "right": null,
            "justify_content": null,
            "_view_module": "@jupyter-widgets/base",
            "overflow": null,
            "_model_module_version": "1.2.0",
            "_view_count": null,
            "flex_flow": null,
            "width": null,
            "min_width": null,
            "border": null,
            "align_items": null,
            "bottom": null,
            "_model_module": "@jupyter-widgets/base",
            "top": null,
            "grid_column": null,
            "overflow_y": null,
            "overflow_x": null,
            "grid_auto_flow": null,
            "grid_area": null,
            "grid_template_columns": null,
            "flex": null,
            "_model_name": "LayoutModel",
            "justify_items": null,
            "grid_row": null,
            "max_height": null,
            "align_content": null,
            "visibility": null,
            "align_self": null,
            "height": null,
            "min_height": null,
            "padding": null,
            "grid_auto_rows": null,
            "grid_gap": null,
            "max_width": null,
            "order": null,
            "_view_module_version": "1.2.0",
            "grid_template_areas": null,
            "object_position": null,
            "object_fit": null,
            "grid_auto_columns": null,
            "margin": null,
            "display": null,
            "left": null
          }
        },
        "60596d8adcfb4eaf8d9a73b67f0a8a7e": {
          "model_module": "@jupyter-widgets/controls",
          "model_name": "FloatProgressModel",
          "state": {
            "_view_name": "ProgressView",
            "style": "IPY_MODEL_79d4e1256d3c48ae8a885406dca7e2df",
            "_dom_classes": [],
            "description": "100%",
            "_model_name": "FloatProgressModel",
            "bar_style": "success",
            "max": 36,
            "_view_module": "@jupyter-widgets/controls",
            "_model_module_version": "1.5.0",
            "value": 36,
            "_view_count": null,
            "_view_module_version": "1.5.0",
            "orientation": "horizontal",
            "min": 0,
            "description_tooltip": null,
            "_model_module": "@jupyter-widgets/controls",
            "layout": "IPY_MODEL_d47035b135e94e9c9e9e056e4710a94f"
          }
        },
        "fe13d4e0b2624e91950fb074d91fbfd2": {
          "model_module": "@jupyter-widgets/controls",
          "model_name": "HTMLModel",
          "state": {
            "_view_name": "HTMLView",
            "style": "IPY_MODEL_15a4c4575e5740b8832fa892ea520637",
            "_dom_classes": [],
            "description": "",
            "_model_name": "HTMLModel",
            "placeholder": "​",
            "_view_module": "@jupyter-widgets/controls",
            "_model_module_version": "1.5.0",
            "value": " 36/36 [05:24&lt;00:00,  9.00s/it]",
            "_view_count": null,
            "_view_module_version": "1.5.0",
            "description_tooltip": null,
            "_model_module": "@jupyter-widgets/controls",
            "layout": "IPY_MODEL_8fc2888179d7463d997c6bec0aaea614"
          }
        },
        "79d4e1256d3c48ae8a885406dca7e2df": {
          "model_module": "@jupyter-widgets/controls",
          "model_name": "ProgressStyleModel",
          "state": {
            "_view_name": "StyleView",
            "_model_name": "ProgressStyleModel",
            "description_width": "initial",
            "_view_module": "@jupyter-widgets/base",
            "_model_module_version": "1.5.0",
            "_view_count": null,
            "_view_module_version": "1.2.0",
            "bar_color": null,
            "_model_module": "@jupyter-widgets/controls"
          }
        },
        "d47035b135e94e9c9e9e056e4710a94f": {
          "model_module": "@jupyter-widgets/base",
          "model_name": "LayoutModel",
          "state": {
            "_view_name": "LayoutView",
            "grid_template_rows": null,
            "right": null,
            "justify_content": null,
            "_view_module": "@jupyter-widgets/base",
            "overflow": null,
            "_model_module_version": "1.2.0",
            "_view_count": null,
            "flex_flow": null,
            "width": null,
            "min_width": null,
            "border": null,
            "align_items": null,
            "bottom": null,
            "_model_module": "@jupyter-widgets/base",
            "top": null,
            "grid_column": null,
            "overflow_y": null,
            "overflow_x": null,
            "grid_auto_flow": null,
            "grid_area": null,
            "grid_template_columns": null,
            "flex": null,
            "_model_name": "LayoutModel",
            "justify_items": null,
            "grid_row": null,
            "max_height": null,
            "align_content": null,
            "visibility": null,
            "align_self": null,
            "height": null,
            "min_height": null,
            "padding": null,
            "grid_auto_rows": null,
            "grid_gap": null,
            "max_width": null,
            "order": null,
            "_view_module_version": "1.2.0",
            "grid_template_areas": null,
            "object_position": null,
            "object_fit": null,
            "grid_auto_columns": null,
            "margin": null,
            "display": null,
            "left": null
          }
        },
        "15a4c4575e5740b8832fa892ea520637": {
          "model_module": "@jupyter-widgets/controls",
          "model_name": "DescriptionStyleModel",
          "state": {
            "_view_name": "StyleView",
            "_model_name": "DescriptionStyleModel",
            "description_width": "",
            "_view_module": "@jupyter-widgets/base",
            "_model_module_version": "1.5.0",
            "_view_count": null,
            "_view_module_version": "1.2.0",
            "_model_module": "@jupyter-widgets/controls"
          }
        },
        "8fc2888179d7463d997c6bec0aaea614": {
          "model_module": "@jupyter-widgets/base",
          "model_name": "LayoutModel",
          "state": {
            "_view_name": "LayoutView",
            "grid_template_rows": null,
            "right": null,
            "justify_content": null,
            "_view_module": "@jupyter-widgets/base",
            "overflow": null,
            "_model_module_version": "1.2.0",
            "_view_count": null,
            "flex_flow": null,
            "width": null,
            "min_width": null,
            "border": null,
            "align_items": null,
            "bottom": null,
            "_model_module": "@jupyter-widgets/base",
            "top": null,
            "grid_column": null,
            "overflow_y": null,
            "overflow_x": null,
            "grid_auto_flow": null,
            "grid_area": null,
            "grid_template_columns": null,
            "flex": null,
            "_model_name": "LayoutModel",
            "justify_items": null,
            "grid_row": null,
            "max_height": null,
            "align_content": null,
            "visibility": null,
            "align_self": null,
            "height": null,
            "min_height": null,
            "padding": null,
            "grid_auto_rows": null,
            "grid_gap": null,
            "max_width": null,
            "order": null,
            "_view_module_version": "1.2.0",
            "grid_template_areas": null,
            "object_position": null,
            "object_fit": null,
            "grid_auto_columns": null,
            "margin": null,
            "display": null,
            "left": null
          }
        },
        "65ed2e9c7ab949b3b3d9ce1575cd4ecc": {
          "model_module": "@jupyter-widgets/controls",
          "model_name": "HBoxModel",
          "state": {
            "_view_name": "HBoxView",
            "_dom_classes": [],
            "_model_name": "HBoxModel",
            "_view_module": "@jupyter-widgets/controls",
            "_model_module_version": "1.5.0",
            "_view_count": null,
            "_view_module_version": "1.5.0",
            "box_style": "",
            "layout": "IPY_MODEL_ab2fc7c0049344559f0f9438e8effd99",
            "_model_module": "@jupyter-widgets/controls",
            "children": [
              "IPY_MODEL_3c4e8dac467c4e239b55b23565d6c777",
              "IPY_MODEL_4a5bc4a3c2ee47489847d6af0df1493b"
            ]
          }
        },
        "ab2fc7c0049344559f0f9438e8effd99": {
          "model_module": "@jupyter-widgets/base",
          "model_name": "LayoutModel",
          "state": {
            "_view_name": "LayoutView",
            "grid_template_rows": null,
            "right": null,
            "justify_content": null,
            "_view_module": "@jupyter-widgets/base",
            "overflow": null,
            "_model_module_version": "1.2.0",
            "_view_count": null,
            "flex_flow": null,
            "width": null,
            "min_width": null,
            "border": null,
            "align_items": null,
            "bottom": null,
            "_model_module": "@jupyter-widgets/base",
            "top": null,
            "grid_column": null,
            "overflow_y": null,
            "overflow_x": null,
            "grid_auto_flow": null,
            "grid_area": null,
            "grid_template_columns": null,
            "flex": null,
            "_model_name": "LayoutModel",
            "justify_items": null,
            "grid_row": null,
            "max_height": null,
            "align_content": null,
            "visibility": null,
            "align_self": null,
            "height": null,
            "min_height": null,
            "padding": null,
            "grid_auto_rows": null,
            "grid_gap": null,
            "max_width": null,
            "order": null,
            "_view_module_version": "1.2.0",
            "grid_template_areas": null,
            "object_position": null,
            "object_fit": null,
            "grid_auto_columns": null,
            "margin": null,
            "display": null,
            "left": null
          }
        },
        "3c4e8dac467c4e239b55b23565d6c777": {
          "model_module": "@jupyter-widgets/controls",
          "model_name": "FloatProgressModel",
          "state": {
            "_view_name": "ProgressView",
            "style": "IPY_MODEL_dd0efd5d999e4f358f89b928b533d114",
            "_dom_classes": [],
            "description": "100%",
            "_model_name": "FloatProgressModel",
            "bar_style": "success",
            "max": 36,
            "_view_module": "@jupyter-widgets/controls",
            "_model_module_version": "1.5.0",
            "value": 36,
            "_view_count": null,
            "_view_module_version": "1.5.0",
            "orientation": "horizontal",
            "min": 0,
            "description_tooltip": null,
            "_model_module": "@jupyter-widgets/controls",
            "layout": "IPY_MODEL_d0d43ebd683741a89a9abfe826a36225"
          }
        },
        "4a5bc4a3c2ee47489847d6af0df1493b": {
          "model_module": "@jupyter-widgets/controls",
          "model_name": "HTMLModel",
          "state": {
            "_view_name": "HTMLView",
            "style": "IPY_MODEL_472267cc6fd04fefb6ac29bf2f868b6a",
            "_dom_classes": [],
            "description": "",
            "_model_name": "HTMLModel",
            "placeholder": "​",
            "_view_module": "@jupyter-widgets/controls",
            "_model_module_version": "1.5.0",
            "value": " 36/36 [04:44&lt;00:00,  7.89s/it]",
            "_view_count": null,
            "_view_module_version": "1.5.0",
            "description_tooltip": null,
            "_model_module": "@jupyter-widgets/controls",
            "layout": "IPY_MODEL_2b7908306d8d4ec187be02e8e90c8190"
          }
        },
        "dd0efd5d999e4f358f89b928b533d114": {
          "model_module": "@jupyter-widgets/controls",
          "model_name": "ProgressStyleModel",
          "state": {
            "_view_name": "StyleView",
            "_model_name": "ProgressStyleModel",
            "description_width": "initial",
            "_view_module": "@jupyter-widgets/base",
            "_model_module_version": "1.5.0",
            "_view_count": null,
            "_view_module_version": "1.2.0",
            "bar_color": null,
            "_model_module": "@jupyter-widgets/controls"
          }
        },
        "d0d43ebd683741a89a9abfe826a36225": {
          "model_module": "@jupyter-widgets/base",
          "model_name": "LayoutModel",
          "state": {
            "_view_name": "LayoutView",
            "grid_template_rows": null,
            "right": null,
            "justify_content": null,
            "_view_module": "@jupyter-widgets/base",
            "overflow": null,
            "_model_module_version": "1.2.0",
            "_view_count": null,
            "flex_flow": null,
            "width": null,
            "min_width": null,
            "border": null,
            "align_items": null,
            "bottom": null,
            "_model_module": "@jupyter-widgets/base",
            "top": null,
            "grid_column": null,
            "overflow_y": null,
            "overflow_x": null,
            "grid_auto_flow": null,
            "grid_area": null,
            "grid_template_columns": null,
            "flex": null,
            "_model_name": "LayoutModel",
            "justify_items": null,
            "grid_row": null,
            "max_height": null,
            "align_content": null,
            "visibility": null,
            "align_self": null,
            "height": null,
            "min_height": null,
            "padding": null,
            "grid_auto_rows": null,
            "grid_gap": null,
            "max_width": null,
            "order": null,
            "_view_module_version": "1.2.0",
            "grid_template_areas": null,
            "object_position": null,
            "object_fit": null,
            "grid_auto_columns": null,
            "margin": null,
            "display": null,
            "left": null
          }
        },
        "472267cc6fd04fefb6ac29bf2f868b6a": {
          "model_module": "@jupyter-widgets/controls",
          "model_name": "DescriptionStyleModel",
          "state": {
            "_view_name": "StyleView",
            "_model_name": "DescriptionStyleModel",
            "description_width": "",
            "_view_module": "@jupyter-widgets/base",
            "_model_module_version": "1.5.0",
            "_view_count": null,
            "_view_module_version": "1.2.0",
            "_model_module": "@jupyter-widgets/controls"
          }
        },
        "2b7908306d8d4ec187be02e8e90c8190": {
          "model_module": "@jupyter-widgets/base",
          "model_name": "LayoutModel",
          "state": {
            "_view_name": "LayoutView",
            "grid_template_rows": null,
            "right": null,
            "justify_content": null,
            "_view_module": "@jupyter-widgets/base",
            "overflow": null,
            "_model_module_version": "1.2.0",
            "_view_count": null,
            "flex_flow": null,
            "width": null,
            "min_width": null,
            "border": null,
            "align_items": null,
            "bottom": null,
            "_model_module": "@jupyter-widgets/base",
            "top": null,
            "grid_column": null,
            "overflow_y": null,
            "overflow_x": null,
            "grid_auto_flow": null,
            "grid_area": null,
            "grid_template_columns": null,
            "flex": null,
            "_model_name": "LayoutModel",
            "justify_items": null,
            "grid_row": null,
            "max_height": null,
            "align_content": null,
            "visibility": null,
            "align_self": null,
            "height": null,
            "min_height": null,
            "padding": null,
            "grid_auto_rows": null,
            "grid_gap": null,
            "max_width": null,
            "order": null,
            "_view_module_version": "1.2.0",
            "grid_template_areas": null,
            "object_position": null,
            "object_fit": null,
            "grid_auto_columns": null,
            "margin": null,
            "display": null,
            "left": null
          }
        }
      }
    }
  },
  "cells": [
    {
      "cell_type": "code",
      "metadata": {
        "id": "3Wg1kLejyoYb"
      },
      "source": [
        "import pandas as pd\n",
        "import numpy as np\n",
        "\n",
        "from sklearn.model_selection import train_test_split\n",
        "\n",
        "from sklearn.linear_model import LinearRegression, Ridge\n",
        "from sklearn.ensemble import RandomForestRegressor, GradientBoostingRegressor, ExtraTreesRegressor\n",
        "from sklearn.neural_network import MLPRegressor\n",
        "from sklearn.neighbors import KNeighborsRegressor\n",
        "from sklearn.svm import SVR\n",
        "\n",
        "from sklearn.model_selection import ParameterGrid\n",
        "\n",
        "from tqdm.notebook import tqdm"
      ],
      "execution_count": null,
      "outputs": []
    },
    {
      "cell_type": "code",
      "metadata": {
        "colab": {
          "base_uri": "https://localhost:8080/",
          "height": 258
        },
        "id": "XIQAUAL3yzgY",
        "outputId": "4a9a9620-7567-45a9-c2f9-ea1edfb742b5"
      },
      "source": [
        "merged_df = pd.read_csv('/content/drive/MyDrive/Carnegie Mellon University/15-688 Practical Data Science/Cleaned tables/merged.csv')\n",
        "merged_df.head()"
      ],
      "execution_count": null,
      "outputs": [
        {
          "output_type": "execute_result",
          "data": {
            "text/html": [
              "<div>\n",
              "<style scoped>\n",
              "    .dataframe tbody tr th:only-of-type {\n",
              "        vertical-align: middle;\n",
              "    }\n",
              "\n",
              "    .dataframe tbody tr th {\n",
              "        vertical-align: top;\n",
              "    }\n",
              "\n",
              "    .dataframe thead th {\n",
              "        text-align: right;\n",
              "    }\n",
              "</style>\n",
              "<table border=\"1\" class=\"dataframe\">\n",
              "  <thead>\n",
              "    <tr style=\"text-align: right;\">\n",
              "      <th></th>\n",
              "      <th>State_Abbr</th>\n",
              "      <th>State</th>\n",
              "      <th>Year</th>\n",
              "      <th>HPI</th>\n",
              "      <th>num_crimes</th>\n",
              "      <th>Female_per_male</th>\n",
              "      <th>num_asians_per_km2</th>\n",
              "      <th>Percent HS or higher</th>\n",
              "      <th>Percent Bach or higher</th>\n",
              "      <th>Norm_poor</th>\n",
              "      <th>1</th>\n",
              "      <th>1-4</th>\n",
              "      <th>5-9</th>\n",
              "      <th>10-14</th>\n",
              "      <th>15-19</th>\n",
              "      <th>20-24</th>\n",
              "      <th>25-29</th>\n",
              "      <th>30-34</th>\n",
              "      <th>35-39</th>\n",
              "      <th>40-44</th>\n",
              "      <th>45-49</th>\n",
              "      <th>50-54</th>\n",
              "      <th>55-59</th>\n",
              "      <th>60-64</th>\n",
              "      <th>65-69</th>\n",
              "      <th>70-74</th>\n",
              "      <th>75-79</th>\n",
              "      <th>80-84</th>\n",
              "      <th>85+</th>\n",
              "    </tr>\n",
              "  </thead>\n",
              "  <tbody>\n",
              "    <tr>\n",
              "      <th>0</th>\n",
              "      <td>CA</td>\n",
              "      <td>California</td>\n",
              "      <td>1997</td>\n",
              "      <td>422.33</td>\n",
              "      <td>160</td>\n",
              "      <td>1.004704</td>\n",
              "      <td>15</td>\n",
              "      <td>80.7</td>\n",
              "      <td>27.5</td>\n",
              "      <td>338.938144</td>\n",
              "      <td>0.015278</td>\n",
              "      <td>0.066190</td>\n",
              "      <td>0.082786</td>\n",
              "      <td>0.073945</td>\n",
              "      <td>0.069182</td>\n",
              "      <td>0.066392</td>\n",
              "      <td>0.080371</td>\n",
              "      <td>0.086400</td>\n",
              "      <td>0.085759</td>\n",
              "      <td>0.076659</td>\n",
              "      <td>0.065129</td>\n",
              "      <td>0.053048</td>\n",
              "      <td>0.039099</td>\n",
              "      <td>0.032330</td>\n",
              "      <td>0.031009</td>\n",
              "      <td>0.027725</td>\n",
              "      <td>0.022444</td>\n",
              "      <td>0.014473</td>\n",
              "      <td>0.011779</td>\n",
              "    </tr>\n",
              "    <tr>\n",
              "      <th>1</th>\n",
              "      <td>CA</td>\n",
              "      <td>California</td>\n",
              "      <td>1996</td>\n",
              "      <td>411.04</td>\n",
              "      <td>153</td>\n",
              "      <td>1.003608</td>\n",
              "      <td>15</td>\n",
              "      <td>79.8</td>\n",
              "      <td>26.8</td>\n",
              "      <td>333.041237</td>\n",
              "      <td>0.015973</td>\n",
              "      <td>0.069498</td>\n",
              "      <td>0.081588</td>\n",
              "      <td>0.074486</td>\n",
              "      <td>0.067713</td>\n",
              "      <td>0.066404</td>\n",
              "      <td>0.081954</td>\n",
              "      <td>0.088977</td>\n",
              "      <td>0.085919</td>\n",
              "      <td>0.075208</td>\n",
              "      <td>0.065381</td>\n",
              "      <td>0.048843</td>\n",
              "      <td>0.038080</td>\n",
              "      <td>0.032176</td>\n",
              "      <td>0.031768</td>\n",
              "      <td>0.028345</td>\n",
              "      <td>0.021842</td>\n",
              "      <td>0.014328</td>\n",
              "      <td>0.011519</td>\n",
              "    </tr>\n",
              "    <tr>\n",
              "      <th>2</th>\n",
              "      <td>CA</td>\n",
              "      <td>California</td>\n",
              "      <td>1995</td>\n",
              "      <td>411.40</td>\n",
              "      <td>142</td>\n",
              "      <td>1.002516</td>\n",
              "      <td>15</td>\n",
              "      <td>79.6</td>\n",
              "      <td>24.2</td>\n",
              "      <td>330.463918</td>\n",
              "      <td>0.016686</td>\n",
              "      <td>0.071814</td>\n",
              "      <td>0.078687</td>\n",
              "      <td>0.073602</td>\n",
              "      <td>0.065991</td>\n",
              "      <td>0.068845</td>\n",
              "      <td>0.083676</td>\n",
              "      <td>0.091844</td>\n",
              "      <td>0.086011</td>\n",
              "      <td>0.074288</td>\n",
              "      <td>0.062936</td>\n",
              "      <td>0.048160</td>\n",
              "      <td>0.037492</td>\n",
              "      <td>0.032645</td>\n",
              "      <td>0.032042</td>\n",
              "      <td>0.028801</td>\n",
              "      <td>0.021190</td>\n",
              "      <td>0.014035</td>\n",
              "      <td>0.011254</td>\n",
              "    </tr>\n",
              "    <tr>\n",
              "      <th>3</th>\n",
              "      <td>CA</td>\n",
              "      <td>California</td>\n",
              "      <td>1998</td>\n",
              "      <td>456.42</td>\n",
              "      <td>135</td>\n",
              "      <td>1.004670</td>\n",
              "      <td>15</td>\n",
              "      <td>80.1</td>\n",
              "      <td>26.4</td>\n",
              "      <td>343.216495</td>\n",
              "      <td>0.014793</td>\n",
              "      <td>0.063105</td>\n",
              "      <td>0.082796</td>\n",
              "      <td>0.073790</td>\n",
              "      <td>0.070743</td>\n",
              "      <td>0.067104</td>\n",
              "      <td>0.078752</td>\n",
              "      <td>0.083621</td>\n",
              "      <td>0.085427</td>\n",
              "      <td>0.077886</td>\n",
              "      <td>0.066335</td>\n",
              "      <td>0.054959</td>\n",
              "      <td>0.041014</td>\n",
              "      <td>0.032967</td>\n",
              "      <td>0.030287</td>\n",
              "      <td>0.027272</td>\n",
              "      <td>0.022656</td>\n",
              "      <td>0.014502</td>\n",
              "      <td>0.011990</td>\n",
              "    </tr>\n",
              "    <tr>\n",
              "      <th>4</th>\n",
              "      <td>CA</td>\n",
              "      <td>California</td>\n",
              "      <td>1999</td>\n",
              "      <td>487.38</td>\n",
              "      <td>126</td>\n",
              "      <td>1.006055</td>\n",
              "      <td>15</td>\n",
              "      <td>80.4</td>\n",
              "      <td>27.1</td>\n",
              "      <td>347.474227</td>\n",
              "      <td>0.014497</td>\n",
              "      <td>0.060494</td>\n",
              "      <td>0.082058</td>\n",
              "      <td>0.074566</td>\n",
              "      <td>0.071737</td>\n",
              "      <td>0.068753</td>\n",
              "      <td>0.076539</td>\n",
              "      <td>0.081034</td>\n",
              "      <td>0.084491</td>\n",
              "      <td>0.078564</td>\n",
              "      <td>0.067733</td>\n",
              "      <td>0.057324</td>\n",
              "      <td>0.042267</td>\n",
              "      <td>0.033647</td>\n",
              "      <td>0.029422</td>\n",
              "      <td>0.026938</td>\n",
              "      <td>0.022887</td>\n",
              "      <td>0.014715</td>\n",
              "      <td>0.012337</td>\n",
              "    </tr>\n",
              "  </tbody>\n",
              "</table>\n",
              "</div>"
            ],
            "text/plain": [
              "  State_Abbr       State  Year     HPI  ...     70-74     75-79     80-84       85+\n",
              "0         CA  California  1997  422.33  ...  0.027725  0.022444  0.014473  0.011779\n",
              "1         CA  California  1996  411.04  ...  0.028345  0.021842  0.014328  0.011519\n",
              "2         CA  California  1995  411.40  ...  0.028801  0.021190  0.014035  0.011254\n",
              "3         CA  California  1998  456.42  ...  0.027272  0.022656  0.014502  0.011990\n",
              "4         CA  California  1999  487.38  ...  0.026938  0.022887  0.014715  0.012337\n",
              "\n",
              "[5 rows x 29 columns]"
            ]
          },
          "metadata": {
            "tags": []
          },
          "execution_count": 2
        }
      ]
    },
    {
      "cell_type": "code",
      "metadata": {
        "colab": {
          "base_uri": "https://localhost:8080/"
        },
        "id": "IjULWLIjy7FQ",
        "outputId": "4182005c-8355-4b23-b44e-ccc3010957f0"
      },
      "source": [
        "X = merged_df.drop([\n",
        "                    'State_Abbr',\n",
        "                    'State',\n",
        "                    'Year',\n",
        "                    'num_crimes'\n",
        "], axis=1).copy()\n",
        "y = merged_df['num_crimes'].copy()\n",
        "print(X.shape, y.shape)"
      ],
      "execution_count": null,
      "outputs": [
        {
          "output_type": "stream",
          "text": [
            "(1479, 25) (1479,)\n"
          ],
          "name": "stdout"
        }
      ]
    },
    {
      "cell_type": "code",
      "metadata": {
        "colab": {
          "base_uri": "https://localhost:8080/"
        },
        "id": "5yFJLupPze0g",
        "outputId": "10d039ab-80fb-4289-d92d-4e800bd5dda0"
      },
      "source": [
        "X_train, X_test, y_train, y_test = train_test_split(X, y, test_size=0.3, random_state=42)\n",
        "print(X_train.shape, X_test.shape, y_train.shape, y_test.shape)"
      ],
      "execution_count": null,
      "outputs": [
        {
          "output_type": "stream",
          "text": [
            "(1035, 25) (444, 25) (1035,) (444,)\n"
          ],
          "name": "stdout"
        }
      ]
    },
    {
      "cell_type": "code",
      "metadata": {
        "id": "Xnmxgx22zuFo"
      },
      "source": [
        "model_list = [\n",
        "              LinearRegression(),\n",
        "              Ridge(random_state=42),\n",
        "              KNeighborsRegressor(),\n",
        "              SVR(),\n",
        "              RandomForestRegressor(random_state=42),\n",
        "              GradientBoostingRegressor(random_state=42),\n",
        "              ExtraTreesRegressor(random_state=42),\n",
        "              MLPRegressor(random_state=42, max_iter=20000, early_stopping=True)\n",
        "]\n",
        "model_names = [\n",
        "               'Linear Regression',\n",
        "               'Ridge Regression',\n",
        "               'KNN',\n",
        "               'SVR',\n",
        "               'Random Forest',\n",
        "               'Gradient Boosting',\n",
        "               'Extra Trees',\n",
        "               'MLP'\n",
        "]"
      ],
      "execution_count": null,
      "outputs": []
    },
    {
      "cell_type": "code",
      "metadata": {
        "colab": {
          "base_uri": "https://localhost:8080/",
          "height": 346,
          "referenced_widgets": [
            "778f68e3114b4edd9590c1a88e06f462",
            "6f639159612849f593fb7f5b59a35827",
            "04c91df25b2b4065a1701b467f962ea9",
            "72b0ac2bb40c43afb9b11c104314d4ca",
            "754cd8557d6f4036a37a38625cf8a9ec",
            "fd0e95caccae454c89ec49e55df21cd5",
            "353166645746417f8c88b7ed714c185e",
            "e7d07e052e14403184b2b03273713139"
          ]
        },
        "id": "OWgITW0005Ao",
        "outputId": "781f982e-076c-45a3-e3ea-7f3f3be9590c"
      },
      "source": [
        "results_df = pd.DataFrame(columns=['model','r2_score'])\n",
        "for i,model in tqdm(enumerate(model_list)):\n",
        "  model.fit(X_train, y_train)\n",
        "  model_results = {\n",
        "      'model':model_names[i],\n",
        "      'r2_score':model.score(X_test, y_test)\n",
        "  }\n",
        "  results_df = results_df.append(model_results, ignore_index=True)\n",
        "results_df"
      ],
      "execution_count": null,
      "outputs": [
        {
          "output_type": "display_data",
          "data": {
            "application/vnd.jupyter.widget-view+json": {
              "model_id": "778f68e3114b4edd9590c1a88e06f462",
              "version_minor": 0,
              "version_major": 2
            },
            "text/plain": [
              "HBox(children=(FloatProgress(value=1.0, bar_style='info', max=1.0), HTML(value='')))"
            ]
          },
          "metadata": {
            "tags": []
          }
        },
        {
          "output_type": "stream",
          "text": [
            "\n"
          ],
          "name": "stdout"
        },
        {
          "output_type": "execute_result",
          "data": {
            "text/html": [
              "<div>\n",
              "<style scoped>\n",
              "    .dataframe tbody tr th:only-of-type {\n",
              "        vertical-align: middle;\n",
              "    }\n",
              "\n",
              "    .dataframe tbody tr th {\n",
              "        vertical-align: top;\n",
              "    }\n",
              "\n",
              "    .dataframe thead th {\n",
              "        text-align: right;\n",
              "    }\n",
              "</style>\n",
              "<table border=\"1\" class=\"dataframe\">\n",
              "  <thead>\n",
              "    <tr style=\"text-align: right;\">\n",
              "      <th></th>\n",
              "      <th>model</th>\n",
              "      <th>r2_score</th>\n",
              "    </tr>\n",
              "  </thead>\n",
              "  <tbody>\n",
              "    <tr>\n",
              "      <th>0</th>\n",
              "      <td>Linear Regression</td>\n",
              "      <td>-0.071643</td>\n",
              "    </tr>\n",
              "    <tr>\n",
              "      <th>1</th>\n",
              "      <td>Ridge Regression</td>\n",
              "      <td>-0.019623</td>\n",
              "    </tr>\n",
              "    <tr>\n",
              "      <th>2</th>\n",
              "      <td>KNN</td>\n",
              "      <td>0.103936</td>\n",
              "    </tr>\n",
              "    <tr>\n",
              "      <th>3</th>\n",
              "      <td>SVR</td>\n",
              "      <td>-0.006048</td>\n",
              "    </tr>\n",
              "    <tr>\n",
              "      <th>4</th>\n",
              "      <td>Random Forest</td>\n",
              "      <td>0.748508</td>\n",
              "    </tr>\n",
              "    <tr>\n",
              "      <th>5</th>\n",
              "      <td>Gradient Boosting</td>\n",
              "      <td>0.687647</td>\n",
              "    </tr>\n",
              "    <tr>\n",
              "      <th>6</th>\n",
              "      <td>Extra Trees</td>\n",
              "      <td>0.769190</td>\n",
              "    </tr>\n",
              "    <tr>\n",
              "      <th>7</th>\n",
              "      <td>MLP</td>\n",
              "      <td>0.001032</td>\n",
              "    </tr>\n",
              "  </tbody>\n",
              "</table>\n",
              "</div>"
            ],
            "text/plain": [
              "               model  r2_score\n",
              "0  Linear Regression -0.071643\n",
              "1   Ridge Regression -0.019623\n",
              "2                KNN  0.103936\n",
              "3                SVR -0.006048\n",
              "4      Random Forest  0.748508\n",
              "5  Gradient Boosting  0.687647\n",
              "6        Extra Trees  0.769190\n",
              "7                MLP  0.001032"
            ]
          },
          "metadata": {
            "tags": []
          },
          "execution_count": 26
        }
      ]
    },
    {
      "cell_type": "code",
      "metadata": {
        "id": "pWmCuRds1lLo"
      },
      "source": [
        "def grid_search(reg, params, X_train, X_test, y_train, y_test):\n",
        "  best_params = None\n",
        "  best_score = 0\n",
        "  for param in tqdm(params):\n",
        "    model = reg().set_params(**param).fit(X_train, y_train)\n",
        "    score = model.score(X_test, y_test)\n",
        "    if score >= best_score:\n",
        "      best_score = score\n",
        "      best_params = param\n",
        "  print('Best score:', best_score)\n",
        "  print('Best params:', best_params)\n",
        "  return best_params"
      ],
      "execution_count": null,
      "outputs": []
    },
    {
      "cell_type": "code",
      "metadata": {
        "colab": {
          "base_uri": "https://localhost:8080/",
          "height": 100,
          "referenced_widgets": [
            "399327019260437a84be8691812ca7cf",
            "079934adb84049cfa7cacf07157dd25f",
            "8c81bab0b8a5422f881a9e2e2eec5db9",
            "918a06dca94e4b8c907c313734c21042",
            "c22219767baa445cbe1b5a69eaf677bd",
            "c13af387b26149caa308d9051b847c25",
            "2172e0d336174200a9e4aa57806ed355",
            "aed144144c3b4b89b3b80fc745676b21"
          ]
        },
        "id": "m7dCV3eV2UZX",
        "outputId": "bfebde22-1b27-434b-e151-1421c91aad12"
      },
      "source": [
        "rf_params = {\n",
        "    'n_estimators': [100,150,200],\n",
        "    'max_depth': [None, 5,7,9],\n",
        "    'max_features': ['auto','sqrt','log2'],\n",
        "    'random_state': [42]\n",
        "}\n",
        "rf_params = ParameterGrid(rf_params)\n",
        "rf_best = grid_search(RandomForestRegressor, rf_params, X_train, X_test, y_train, y_test)"
      ],
      "execution_count": null,
      "outputs": [
        {
          "output_type": "display_data",
          "data": {
            "application/vnd.jupyter.widget-view+json": {
              "model_id": "399327019260437a84be8691812ca7cf",
              "version_minor": 0,
              "version_major": 2
            },
            "text/plain": [
              "HBox(children=(FloatProgress(value=0.0, max=36.0), HTML(value='')))"
            ]
          },
          "metadata": {
            "tags": []
          }
        },
        {
          "output_type": "stream",
          "text": [
            "\n",
            "Best score: 0.749845142190733\n",
            "Best params: {'max_depth': None, 'max_features': 'auto', 'n_estimators': 150, 'random_state': 42}\n"
          ],
          "name": "stdout"
        }
      ]
    },
    {
      "cell_type": "code",
      "metadata": {
        "colab": {
          "base_uri": "https://localhost:8080/",
          "height": 100,
          "referenced_widgets": [
            "ac3fbb4e0dd54beb899ff60101dac16a",
            "b1aab63fff674f3080aa0e1151f078b6",
            "60596d8adcfb4eaf8d9a73b67f0a8a7e",
            "fe13d4e0b2624e91950fb074d91fbfd2",
            "79d4e1256d3c48ae8a885406dca7e2df",
            "d47035b135e94e9c9e9e056e4710a94f",
            "15a4c4575e5740b8832fa892ea520637",
            "8fc2888179d7463d997c6bec0aaea614"
          ]
        },
        "id": "cghzyjzh3GFy",
        "outputId": "b90b8996-a6cb-4bef-d2a1-f5fb92762775"
      },
      "source": [
        "gb_params = {\n",
        "    'n_estimators': [100,150,200],\n",
        "    'max_depth': [None, 5,7,9],\n",
        "    'max_features': ['auto','sqrt','log2'],\n",
        "    'random_state': [42]\n",
        "}\n",
        "gb_params = ParameterGrid(gb_params)\n",
        "gb_best = grid_search(GradientBoostingRegressor, gb_params, X_train, X_test, y_train, y_test)"
      ],
      "execution_count": null,
      "outputs": [
        {
          "output_type": "display_data",
          "data": {
            "application/vnd.jupyter.widget-view+json": {
              "model_id": "ac3fbb4e0dd54beb899ff60101dac16a",
              "version_minor": 0,
              "version_major": 2
            },
            "text/plain": [
              "HBox(children=(FloatProgress(value=0.0, max=36.0), HTML(value='')))"
            ]
          },
          "metadata": {
            "tags": []
          }
        },
        {
          "output_type": "stream",
          "text": [
            "\n",
            "Best score: 0.735036205997522\n",
            "Best params: {'max_depth': 7, 'max_features': 'auto', 'n_estimators': 100, 'random_state': 42}\n"
          ],
          "name": "stdout"
        }
      ]
    },
    {
      "cell_type": "code",
      "metadata": {
        "colab": {
          "base_uri": "https://localhost:8080/",
          "height": 100,
          "referenced_widgets": [
            "65ed2e9c7ab949b3b3d9ce1575cd4ecc",
            "ab2fc7c0049344559f0f9438e8effd99",
            "3c4e8dac467c4e239b55b23565d6c777",
            "4a5bc4a3c2ee47489847d6af0df1493b",
            "dd0efd5d999e4f358f89b928b533d114",
            "d0d43ebd683741a89a9abfe826a36225",
            "472267cc6fd04fefb6ac29bf2f868b6a",
            "2b7908306d8d4ec187be02e8e90c8190"
          ]
        },
        "id": "3yDjYDDv3YXj",
        "outputId": "f7945f7e-3461-42c0-ca05-2600ecb57dd3"
      },
      "source": [
        "et_params = {\n",
        "    'n_estimators': [100,150,200],\n",
        "    'max_depth': [None, 5,7,9],\n",
        "    'max_features': ['auto','sqrt','log2'],\n",
        "    'random_state': [42]\n",
        "}\n",
        "et_params = ParameterGrid(et_params)\n",
        "et_best = grid_search(ExtraTreesRegressor, et_params, X_train, X_test, y_train, y_test)"
      ],
      "execution_count": null,
      "outputs": [
        {
          "output_type": "display_data",
          "data": {
            "application/vnd.jupyter.widget-view+json": {
              "model_id": "65ed2e9c7ab949b3b3d9ce1575cd4ecc",
              "version_minor": 0,
              "version_major": 2
            },
            "text/plain": [
              "HBox(children=(FloatProgress(value=0.0, max=36.0), HTML(value='')))"
            ]
          },
          "metadata": {
            "tags": []
          }
        },
        {
          "output_type": "stream",
          "text": [
            "\n",
            "Best score: 0.7729759346583902\n",
            "Best params: {'max_depth': None, 'max_features': 'auto', 'n_estimators': 150, 'random_state': 42}\n"
          ],
          "name": "stdout"
        }
      ]
    },
    {
      "cell_type": "code",
      "metadata": {
        "colab": {
          "base_uri": "https://localhost:8080/",
          "height": 494
        },
        "id": "CqOCN3-f3c5E",
        "outputId": "81afd418-8d7d-484a-d19e-369ad7b344b4"
      },
      "source": [
        "et = ExtraTreesRegressor().set_params(**et_best).fit(X, y)\n",
        "feat_imp = pd.Series(data=et.feature_importances_, index=X.columns)\n",
        "feat_imp.plot(kind='bar', colormap='tab20c', figsize=(14,6), title='Feature importances');"
      ],
      "execution_count": null,
      "outputs": [
        {
          "output_type": "display_data",
          "data": {
            "image/png": "[encoded data removed]",
            "text/plain": [
              "<Figure size 1008x432 with 1 Axes>"
            ]
          },
          "metadata": {
            "tags": [],
            "needs_background": "light"
          }
        }
      ]
    },
    {
      "cell_type": "code",
      "metadata": {
        "id": "QBPJvPpO4bO9"
      },
      "source": [
        ""
      ],
      "execution_count": null,
      "outputs": []
    }
  ]
}